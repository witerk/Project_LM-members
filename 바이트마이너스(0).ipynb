{
 "cells": [
  {
   "cell_type": "code",
   "execution_count": 2,
   "id": "dc1c4025",
   "metadata": {},
   "outputs": [],
   "source": [
    "import warnings\n",
    "warnings.filterwarnings('ignore')\n",
    "\n",
    "import random\n",
    "import numpy as np\n",
    "import pandas as pd\n",
    "\n",
    "import matplotlib.pyplot as plt\n",
    "%matplotlib inline\n",
    "#맷플랏립 그래프 주피터에서 바로 출력하기\n",
    "import seaborn as sns\n",
    "\n",
    "from scipy import stats\n",
    "from scipy.stats import t, norm, chi2, chi2_contingency\n",
    "import re\n",
    "import time\n",
    "\n",
    "from matplotlib import rc\n",
    "rc('font', family='Malgun Gothic')      #한글 폰트설정\n",
    "plt.rcParams['axes.unicode_minus']=False      #마이너스 부호 출력 설정\n",
    "\n",
    "from sklearn.datasets import load_iris\n",
    "from sklearn import datasets\n",
    "\n",
    "import cx_Oracle\n",
    "\n",
    "from sklearn.preprocessing import StandardScaler\n",
    "\n",
    "from sklearn.tree import DecisionTreeClassifier\n",
    "from sklearn.linear_model import LogisticRegression\n",
    "from sklearn.model_selection import train_test_split\n",
    "from sklearn.metrics import accuracy_score\n",
    "\n",
    "from sklearn.model_selection import KFold\n",
    "from sklearn.model_selection import StratifiedKFold\n",
    "from sklearn.model_selection import cross_val_score, cross_validate\n",
    "from sklearn.model_selection import GridSearchCV\n",
    "\n",
    "from sklearn.preprocessing import LabelEncoder\n",
    "from sklearn.preprocessing import OneHotEncoder\n",
    "from sklearn.preprocessing import Binarizer\n",
    "\n",
    "from sklearn.metrics import accuracy_score, precision_score, recall_score, confusion_matrix, f1_score\n",
    "from sklearn.metrics import classification_report\n",
    "from sklearn.metrics import precision_recall_curve\n",
    "from sklearn.metrics import roc_auc_score\n",
    "\n",
    "from sklearn import tree\n",
    "from sklearn.datasets import make_classification\n",
    "\n",
    "from sklearn.datasets import load_breast_cancer\n",
    "from sklearn.neighbors import KNeighborsClassifier\n",
    "from sklearn.ensemble import VotingClassifier\n",
    "\n",
    "from sklearn.ensemble import RandomForestClassifier\n",
    "from sklearn.ensemble import GradientBoostingClassifier\n",
    "from sklearn.model_selection import GridSearchCV\n",
    "\n",
    "import xgboost    #1.7.5버전\n",
    "from xgboost import plot_importance\n",
    "from xgboost import XGBClassifier\n",
    "from sklearn.datasets import load_breast_cancer\n",
    "\n",
    "from hyperopt import hp\n",
    "from hyperopt import fmin, tpe, Trials\n",
    "from hyperopt import STATUS_OK"
   ]
  },
  {
   "cell_type": "code",
   "execution_count": 12,
   "id": "294f5b5a",
   "metadata": {},
   "outputs": [
    {
     "data": {
      "text/html": [
       "<style>\n",
       ".output_wrapper, .output {\n",
       "    height:auto !important;\n",
       "    max-height:1000px;  /* 변경하고 싶은 크기 입력 */\n",
       "}\n",
       ".output_scroll {\n",
       "    box-shadow:none !important;\n",
       "    webkit-box-shadow:none !important;\n",
       "}\n",
       "</style>\n"
      ],
      "text/plain": [
       "<IPython.core.display.HTML object>"
      ]
     },
     "metadata": {},
     "output_type": "display_data"
    }
   ],
   "source": [
    "%%html\n",
    "<style>\n",
    ".output_wrapper, .output {\n",
    "    height:auto !important;\n",
    "    max-height:1000px;  /* 변경하고 싶은 크기 입력 */\n",
    "}\n",
    ".output_scroll {\n",
    "    box-shadow:none !important;\n",
    "    webkit-box-shadow:none !important;\n",
    "}\n",
    "</style>"
   ]
  },
  {
   "cell_type": "code",
   "execution_count": 4,
   "id": "6059ea7f",
   "metadata": {},
   "outputs": [],
   "source": [
    "## 위에 코드 -> 그래프 커도 스크롤 바 안 생기게 하는 코드\n",
    "## 없애고 싶으면 restart 해야함"
   ]
  },
  {
   "cell_type": "code",
   "execution_count": 5,
   "id": "25202e55",
   "metadata": {},
   "outputs": [
    {
     "data": {
      "text/html": [
       "<div>\n",
       "<style scoped>\n",
       "    .dataframe tbody tr th:only-of-type {\n",
       "        vertical-align: middle;\n",
       "    }\n",
       "\n",
       "    .dataframe tbody tr th {\n",
       "        vertical-align: top;\n",
       "    }\n",
       "\n",
       "    .dataframe thead th {\n",
       "        text-align: right;\n",
       "    }\n",
       "</style>\n",
       "<table border=\"1\" class=\"dataframe\">\n",
       "  <thead>\n",
       "    <tr style=\"text-align: right;\">\n",
       "      <th></th>\n",
       "      <th>제휴사</th>\n",
       "      <th>대분류코드</th>\n",
       "      <th>중분류코드</th>\n",
       "      <th>소분류코드</th>\n",
       "      <th>중분류명</th>\n",
       "      <th>소분류명</th>\n",
       "      <th>임의코드</th>\n",
       "      <th>임의코드분류명</th>\n",
       "    </tr>\n",
       "  </thead>\n",
       "  <tbody>\n",
       "  </tbody>\n",
       "</table>\n",
       "</div>"
      ],
      "text/plain": [
       "Empty DataFrame\n",
       "Columns: [제휴사, 대분류코드, 중분류코드, 소분류코드, 중분류명, 소분류명, 임의코드, 임의코드분류명]\n",
       "Index: []"
      ]
     },
     "execution_count": 5,
     "metadata": {},
     "output_type": "execute_result"
    }
   ],
   "source": [
    "df = pd.read_excel(r\"C:\\Users\\h\\hmkd1\\m1_programming\\imsi.xlsx\")\n",
    "df\n",
    "\n",
    "af = df[['중분류명','임의코드']]\n",
    "af\n",
    "\n",
    "df.중분류명[df.임의코드==20].unique()\n",
    "df[df.중분류명=='B선물세트']"
   ]
  },
  {
   "cell_type": "code",
   "execution_count": 6,
   "id": "32028a70",
   "metadata": {},
   "outputs": [],
   "source": [
    "af['new'] = af['중분류명'] + af['임의코드'].astype(str)"
   ]
  },
  {
   "cell_type": "code",
   "execution_count": 7,
   "id": "e844e644",
   "metadata": {},
   "outputs": [
    {
     "data": {
      "text/plain": [
       "제휴사        0\n",
       "대분류코드      0\n",
       "중분류코드      0\n",
       "소분류코드      0\n",
       "중분류명       0\n",
       "소분류명       0\n",
       "임의코드       0\n",
       "임의코드분류명    0\n",
       "dtype: int64"
      ]
     },
     "execution_count": 7,
     "metadata": {},
     "output_type": "execute_result"
    }
   ],
   "source": [
    "df.isnull().sum()"
   ]
  },
  {
   "cell_type": "code",
   "execution_count": 11,
   "id": "6dd28a68",
   "metadata": {},
   "outputs": [
    {
     "data": {
      "text/html": [
       "<div>\n",
       "<style scoped>\n",
       "    .dataframe tbody tr th:only-of-type {\n",
       "        vertical-align: middle;\n",
       "    }\n",
       "\n",
       "    .dataframe tbody tr th {\n",
       "        vertical-align: top;\n",
       "    }\n",
       "\n",
       "    .dataframe thead th {\n",
       "        text-align: right;\n",
       "    }\n",
       "</style>\n",
       "<table border=\"1\" class=\"dataframe\">\n",
       "  <thead>\n",
       "    <tr style=\"text-align: right;\">\n",
       "      <th></th>\n",
       "      <th>제휴사</th>\n",
       "      <th>영수증번호</th>\n",
       "      <th>대분류코드</th>\n",
       "      <th>중분류코드</th>\n",
       "      <th>소분류코드</th>\n",
       "      <th>고객번호</th>\n",
       "      <th>점포코드</th>\n",
       "      <th>구매일자</th>\n",
       "      <th>구매시간</th>\n",
       "      <th>구매금액</th>\n",
       "    </tr>\n",
       "  </thead>\n",
       "  <tbody>\n",
       "    <tr>\n",
       "      <th>0</th>\n",
       "      <td>B</td>\n",
       "      <td>8919510</td>\n",
       "      <td>52</td>\n",
       "      <td>5210</td>\n",
       "      <td>B521004</td>\n",
       "      <td>17485</td>\n",
       "      <td>48</td>\n",
       "      <td>20150921</td>\n",
       "      <td>21</td>\n",
       "      <td>25600</td>\n",
       "    </tr>\n",
       "    <tr>\n",
       "      <th>1</th>\n",
       "      <td>B</td>\n",
       "      <td>8919519</td>\n",
       "      <td>5</td>\n",
       "      <td>501</td>\n",
       "      <td>B050101</td>\n",
       "      <td>7002</td>\n",
       "      <td>48</td>\n",
       "      <td>20150921</td>\n",
       "      <td>19</td>\n",
       "      <td>1880</td>\n",
       "    </tr>\n",
       "    <tr>\n",
       "      <th>2</th>\n",
       "      <td>B</td>\n",
       "      <td>8726234</td>\n",
       "      <td>38</td>\n",
       "      <td>3804</td>\n",
       "      <td>B380404</td>\n",
       "      <td>14457</td>\n",
       "      <td>44</td>\n",
       "      <td>20150304</td>\n",
       "      <td>18</td>\n",
       "      <td>3800</td>\n",
       "    </tr>\n",
       "    <tr>\n",
       "      <th>3</th>\n",
       "      <td>B</td>\n",
       "      <td>8724730</td>\n",
       "      <td>8</td>\n",
       "      <td>802</td>\n",
       "      <td>B080203</td>\n",
       "      <td>7814</td>\n",
       "      <td>44</td>\n",
       "      <td>20150222</td>\n",
       "      <td>13</td>\n",
       "      <td>8000</td>\n",
       "    </tr>\n",
       "    <tr>\n",
       "      <th>4</th>\n",
       "      <td>B</td>\n",
       "      <td>8750661</td>\n",
       "      <td>11</td>\n",
       "      <td>1103</td>\n",
       "      <td>B110302</td>\n",
       "      <td>17703</td>\n",
       "      <td>44</td>\n",
       "      <td>20150715</td>\n",
       "      <td>21</td>\n",
       "      <td>2000</td>\n",
       "    </tr>\n",
       "  </tbody>\n",
       "</table>\n",
       "</div>"
      ],
      "text/plain": [
       "  제휴사    영수증번호  대분류코드  중분류코드    소분류코드   고객번호  점포코드      구매일자  구매시간   구매금액\n",
       "0   B  8919510     52   5210  B521004  17485    48  20150921    21  25600\n",
       "1   B  8919519      5    501  B050101   7002    48  20150921    19   1880\n",
       "2   B  8726234     38   3804  B380404  14457    44  20150304    18   3800\n",
       "3   B  8724730      8    802  B080203   7814    44  20150222    13   8000\n",
       "4   B  8750661     11   1103  B110302  17703    44  20150715    21   2000"
      ]
     },
     "execution_count": 11,
     "metadata": {},
     "output_type": "execute_result"
    }
   ],
   "source": [
    "pur1 = pd.read_csv(r\"C:\\Users\\h\\hmkd1\\m1_programming\\[7] DB sql\\PURPROD_SAMPLE.csv\", encoding='cp949')\n",
    "pur1.head()"
   ]
  },
  {
   "cell_type": "code",
   "execution_count": 13,
   "id": "2daea70c",
   "metadata": {},
   "outputs": [
    {
     "data": {
      "text/plain": [
       "제휴사      0\n",
       "영수증번호    0\n",
       "대분류코드    0\n",
       "중분류코드    0\n",
       "소분류코드    0\n",
       "고객번호     0\n",
       "점포코드     0\n",
       "구매일자     0\n",
       "구매시간     0\n",
       "구매금액     0\n",
       "dtype: int64"
      ]
     },
     "execution_count": 13,
     "metadata": {},
     "output_type": "execute_result"
    }
   ],
   "source": [
    "pur1.isnull().sum()"
   ]
  },
  {
   "cell_type": "code",
   "execution_count": 17,
   "id": "bc2d7ed4",
   "metadata": {},
   "outputs": [
    {
     "data": {
      "text/html": [
       "<div>\n",
       "<style scoped>\n",
       "    .dataframe tbody tr th:only-of-type {\n",
       "        vertical-align: middle;\n",
       "    }\n",
       "\n",
       "    .dataframe tbody tr th {\n",
       "        vertical-align: top;\n",
       "    }\n",
       "\n",
       "    .dataframe thead th {\n",
       "        text-align: right;\n",
       "    }\n",
       "</style>\n",
       "<table border=\"1\" class=\"dataframe\">\n",
       "  <thead>\n",
       "    <tr style=\"text-align: right;\">\n",
       "      <th></th>\n",
       "      <th>제휴사</th>\n",
       "      <th>대분류코드</th>\n",
       "      <th>중분류코드</th>\n",
       "      <th>소분류코드</th>\n",
       "      <th>중분류명</th>\n",
       "      <th>소분류명</th>\n",
       "      <th>임의코드</th>\n",
       "      <th>임의코드분류명</th>\n",
       "    </tr>\n",
       "  </thead>\n",
       "  <tbody>\n",
       "    <tr>\n",
       "      <th>0</th>\n",
       "      <td>B</td>\n",
       "      <td>40</td>\n",
       "      <td>4005</td>\n",
       "      <td>B400501</td>\n",
       "      <td>히터기</td>\n",
       "      <td>전기스토브</td>\n",
       "      <td>9</td>\n",
       "      <td>전자/기기</td>\n",
       "    </tr>\n",
       "    <tr>\n",
       "      <th>1</th>\n",
       "      <td>B</td>\n",
       "      <td>40</td>\n",
       "      <td>4005</td>\n",
       "      <td>B400502</td>\n",
       "      <td>히터기</td>\n",
       "      <td>원적외선히터</td>\n",
       "      <td>9</td>\n",
       "      <td>전자/기기</td>\n",
       "    </tr>\n",
       "    <tr>\n",
       "      <th>2</th>\n",
       "      <td>B</td>\n",
       "      <td>40</td>\n",
       "      <td>4005</td>\n",
       "      <td>B400503</td>\n",
       "      <td>히터기</td>\n",
       "      <td>온풍기</td>\n",
       "      <td>9</td>\n",
       "      <td>전자/기기</td>\n",
       "    </tr>\n",
       "  </tbody>\n",
       "</table>\n",
       "</div>"
      ],
      "text/plain": [
       "  제휴사  대분류코드  중분류코드    소분류코드 중분류명    소분류명  임의코드 임의코드분류명\n",
       "0   B     40   4005  B400501  히터기   전기스토브     9   전자/기기\n",
       "1   B     40   4005  B400502  히터기  원적외선히터     9   전자/기기\n",
       "2   B     40   4005  B400503  히터기     온풍기     9   전자/기기"
      ]
     },
     "execution_count": 17,
     "metadata": {},
     "output_type": "execute_result"
    }
   ],
   "source": [
    "df.head(3)"
   ]
  },
  {
   "cell_type": "code",
   "execution_count": 18,
   "id": "6e0b2409",
   "metadata": {
    "scrolled": true
   },
   "outputs": [
    {
     "data": {
      "text/html": [
       "<div>\n",
       "<style scoped>\n",
       "    .dataframe tbody tr th:only-of-type {\n",
       "        vertical-align: middle;\n",
       "    }\n",
       "\n",
       "    .dataframe tbody tr th {\n",
       "        vertical-align: top;\n",
       "    }\n",
       "\n",
       "    .dataframe thead th {\n",
       "        text-align: right;\n",
       "    }\n",
       "</style>\n",
       "<table border=\"1\" class=\"dataframe\">\n",
       "  <thead>\n",
       "    <tr style=\"text-align: right;\">\n",
       "      <th></th>\n",
       "      <th>제휴사</th>\n",
       "      <th>대분류코드</th>\n",
       "      <th>중분류코드</th>\n",
       "      <th>소분류코드</th>\n",
       "      <th>중분류명</th>\n",
       "      <th>소분류명</th>\n",
       "      <th>임의코드</th>\n",
       "      <th>임의코드분류명</th>\n",
       "      <th>영수증번호</th>\n",
       "      <th>고객번호</th>\n",
       "      <th>점포코드</th>\n",
       "      <th>구매일자</th>\n",
       "      <th>구매시간</th>\n",
       "      <th>구매금액</th>\n",
       "    </tr>\n",
       "  </thead>\n",
       "  <tbody>\n",
       "    <tr>\n",
       "      <th>0</th>\n",
       "      <td>B</td>\n",
       "      <td>40</td>\n",
       "      <td>4005</td>\n",
       "      <td>B400501</td>\n",
       "      <td>히터기</td>\n",
       "      <td>전기스토브</td>\n",
       "      <td>9</td>\n",
       "      <td>전자/기기</td>\n",
       "      <td>9477908.0</td>\n",
       "      <td>14025.0</td>\n",
       "      <td>72.0</td>\n",
       "      <td>20140621.0</td>\n",
       "      <td>21.0</td>\n",
       "      <td>29000.0</td>\n",
       "    </tr>\n",
       "    <tr>\n",
       "      <th>1</th>\n",
       "      <td>B</td>\n",
       "      <td>40</td>\n",
       "      <td>4005</td>\n",
       "      <td>B400502</td>\n",
       "      <td>히터기</td>\n",
       "      <td>원적외선히터</td>\n",
       "      <td>9</td>\n",
       "      <td>전자/기기</td>\n",
       "      <td>7580485.0</td>\n",
       "      <td>4074.0</td>\n",
       "      <td>18.0</td>\n",
       "      <td>20140313.0</td>\n",
       "      <td>10.0</td>\n",
       "      <td>10000.0</td>\n",
       "    </tr>\n",
       "    <tr>\n",
       "      <th>2</th>\n",
       "      <td>B</td>\n",
       "      <td>40</td>\n",
       "      <td>4005</td>\n",
       "      <td>B400503</td>\n",
       "      <td>히터기</td>\n",
       "      <td>온풍기</td>\n",
       "      <td>9</td>\n",
       "      <td>전자/기기</td>\n",
       "      <td>NaN</td>\n",
       "      <td>NaN</td>\n",
       "      <td>NaN</td>\n",
       "      <td>NaN</td>\n",
       "      <td>NaN</td>\n",
       "      <td>NaN</td>\n",
       "    </tr>\n",
       "  </tbody>\n",
       "</table>\n",
       "</div>"
      ],
      "text/plain": [
       "  제휴사  대분류코드  중분류코드    소분류코드 중분류명    소분류명  임의코드 임의코드분류명      영수증번호     고객번호  \\\n",
       "0   B     40   4005  B400501  히터기   전기스토브     9   전자/기기  9477908.0  14025.0   \n",
       "1   B     40   4005  B400502  히터기  원적외선히터     9   전자/기기  7580485.0   4074.0   \n",
       "2   B     40   4005  B400503  히터기     온풍기     9   전자/기기        NaN      NaN   \n",
       "\n",
       "   점포코드        구매일자  구매시간     구매금액  \n",
       "0  72.0  20140621.0  21.0  29000.0  \n",
       "1  18.0  20140313.0  10.0  10000.0  \n",
       "2   NaN         NaN   NaN      NaN  "
      ]
     },
     "execution_count": 18,
     "metadata": {},
     "output_type": "execute_result"
    }
   ],
   "source": [
    "pur = pd.merge(df, pur1, how='outer', on=['제휴사','대분류코드','중분류코드','소분류코드'])\n",
    "pur.head(3)"
   ]
  },
  {
   "cell_type": "code",
   "execution_count": null,
   "id": "f032fb5e",
   "metadata": {},
   "outputs": [],
   "source": []
  },
  {
   "cell_type": "code",
   "execution_count": 19,
   "id": "f953e412",
   "metadata": {},
   "outputs": [
    {
     "name": "stdout",
     "output_type": "stream",
     "text": [
      "<class 'pandas.core.frame.DataFrame'>\n",
      "Int64Index: 286236 entries, 0 to 286235\n",
      "Data columns (total 14 columns):\n",
      " #   Column   Non-Null Count   Dtype  \n",
      "---  ------   --------------   -----  \n",
      " 0   제휴사      286236 non-null  object \n",
      " 1   대분류코드    286236 non-null  int64  \n",
      " 2   중분류코드    286236 non-null  int64  \n",
      " 3   소분류코드    286236 non-null  object \n",
      " 4   중분류명     286236 non-null  object \n",
      " 5   소분류명     286236 non-null  object \n",
      " 6   임의코드     286236 non-null  int64  \n",
      " 7   임의코드분류명  286236 non-null  object \n",
      " 8   영수증번호    285368 non-null  float64\n",
      " 9   고객번호     285368 non-null  float64\n",
      " 10  점포코드     285368 non-null  float64\n",
      " 11  구매일자     285368 non-null  float64\n",
      " 12  구매시간     285368 non-null  float64\n",
      " 13  구매금액     285368 non-null  float64\n",
      "dtypes: float64(6), int64(3), object(5)\n",
      "memory usage: 32.8+ MB\n"
     ]
    }
   ],
   "source": [
    "pur.info()"
   ]
  },
  {
   "cell_type": "code",
   "execution_count": null,
   "id": "66427960",
   "metadata": {},
   "outputs": [],
   "source": []
  },
  {
   "cell_type": "code",
   "execution_count": null,
   "id": "aea630c5",
   "metadata": {},
   "outputs": [],
   "source": []
  },
  {
   "cell_type": "code",
   "execution_count": 20,
   "id": "809cb44d",
   "metadata": {
    "scrolled": false
   },
   "outputs": [
    {
     "data": {
      "text/html": [
       "<div>\n",
       "<style scoped>\n",
       "    .dataframe tbody tr th:only-of-type {\n",
       "        vertical-align: middle;\n",
       "    }\n",
       "\n",
       "    .dataframe tbody tr th {\n",
       "        vertical-align: top;\n",
       "    }\n",
       "\n",
       "    .dataframe thead th {\n",
       "        text-align: right;\n",
       "    }\n",
       "</style>\n",
       "<table border=\"1\" class=\"dataframe\">\n",
       "  <thead>\n",
       "    <tr style=\"text-align: right;\">\n",
       "      <th></th>\n",
       "      <th>고객번호</th>\n",
       "      <th>성별</th>\n",
       "      <th>연령대</th>\n",
       "      <th>거주지역</th>\n",
       "    </tr>\n",
       "  </thead>\n",
       "  <tbody>\n",
       "    <tr>\n",
       "      <th>19378</th>\n",
       "      <td>19261</td>\n",
       "      <td>F</td>\n",
       "      <td>60세이상</td>\n",
       "      <td>072</td>\n",
       "    </tr>\n",
       "    <tr>\n",
       "      <th>19379</th>\n",
       "      <td>19262</td>\n",
       "      <td>F</td>\n",
       "      <td>20세~24세</td>\n",
       "      <td>052</td>\n",
       "    </tr>\n",
       "    <tr>\n",
       "      <th>19380</th>\n",
       "      <td>19263</td>\n",
       "      <td>F</td>\n",
       "      <td>60세이상</td>\n",
       "      <td>460</td>\n",
       "    </tr>\n",
       "    <tr>\n",
       "      <th>19381</th>\n",
       "      <td>19264</td>\n",
       "      <td>F</td>\n",
       "      <td>45세~49세</td>\n",
       "      <td>100</td>\n",
       "    </tr>\n",
       "    <tr>\n",
       "      <th>19382</th>\n",
       "      <td>19265</td>\n",
       "      <td>M</td>\n",
       "      <td>60세이상</td>\n",
       "      <td>410</td>\n",
       "    </tr>\n",
       "  </tbody>\n",
       "</table>\n",
       "</div>"
      ],
      "text/plain": [
       "        고객번호 성별      연령대 거주지역\n",
       "19378  19261  F    60세이상  072\n",
       "19379  19262  F  20세~24세  052\n",
       "19380  19263  F    60세이상  460\n",
       "19381  19264  F  45세~49세  100\n",
       "19382  19265  M    60세이상  410"
      ]
     },
     "execution_count": 20,
     "metadata": {},
     "output_type": "execute_result"
    }
   ],
   "source": [
    "db = cx_Oracle.connect(\"c##lm\", \"lm\", 'localhost:1521/xe')\n",
    "\n",
    "cursor = db.cursor()\n",
    "cursor.execute(\"select * from DEMO\")\n",
    "x = cursor.fetchall()\n",
    "\n",
    "demo = pd.DataFrame(x)\n",
    "\n",
    "cursor.execute(\"select column_name from user_tab_columns where table_name='DEMO'\")\n",
    "col = cursor.fetchall()\n",
    "\n",
    "list1 = []\n",
    "for i in col:\n",
    "    for j in i:\n",
    "        list1.append(j)\n",
    "demo.columns = list1\n",
    "demo.tail()"
   ]
  },
  {
   "cell_type": "code",
   "execution_count": 21,
   "id": "46ed04e3",
   "metadata": {},
   "outputs": [
    {
     "data": {
      "text/plain": [
       "Index(['고객번호', '성별', '연령대', '거주지역'], dtype='object')"
      ]
     },
     "execution_count": 21,
     "metadata": {},
     "output_type": "execute_result"
    }
   ],
   "source": [
    "demo.columns"
   ]
  },
  {
   "cell_type": "code",
   "execution_count": 22,
   "id": "90805909",
   "metadata": {},
   "outputs": [
    {
     "data": {
      "text/plain": [
       "Index(['제휴사', '대분류코드', '중분류코드', '소분류코드', '중분류명', '소분류명', '임의코드', '임의코드분류명',\n",
       "       '영수증번호', '고객번호', '점포코드', '구매일자', '구매시간', '구매금액'],\n",
       "      dtype='object')"
      ]
     },
     "execution_count": 22,
     "metadata": {},
     "output_type": "execute_result"
    }
   ],
   "source": [
    "pur.columns"
   ]
  },
  {
   "cell_type": "code",
   "execution_count": 23,
   "id": "ed9b0df3",
   "metadata": {},
   "outputs": [
    {
     "data": {
      "text/html": [
       "<div>\n",
       "<style scoped>\n",
       "    .dataframe tbody tr th:only-of-type {\n",
       "        vertical-align: middle;\n",
       "    }\n",
       "\n",
       "    .dataframe tbody tr th {\n",
       "        vertical-align: top;\n",
       "    }\n",
       "\n",
       "    .dataframe thead th {\n",
       "        text-align: right;\n",
       "    }\n",
       "</style>\n",
       "<table border=\"1\" class=\"dataframe\">\n",
       "  <thead>\n",
       "    <tr style=\"text-align: right;\">\n",
       "      <th></th>\n",
       "      <th>제휴사</th>\n",
       "      <th>대분류코드</th>\n",
       "      <th>중분류코드</th>\n",
       "      <th>소분류코드</th>\n",
       "      <th>중분류명</th>\n",
       "      <th>소분류명</th>\n",
       "      <th>임의코드</th>\n",
       "      <th>임의코드분류명</th>\n",
       "      <th>영수증번호</th>\n",
       "      <th>고객번호</th>\n",
       "      <th>점포코드</th>\n",
       "      <th>구매일자</th>\n",
       "      <th>구매시간</th>\n",
       "      <th>구매금액</th>\n",
       "      <th>성별</th>\n",
       "      <th>연령대</th>\n",
       "      <th>거주지역</th>\n",
       "    </tr>\n",
       "  </thead>\n",
       "  <tbody>\n",
       "    <tr>\n",
       "      <th>0</th>\n",
       "      <td>B</td>\n",
       "      <td>40.0</td>\n",
       "      <td>4005.0</td>\n",
       "      <td>B400501</td>\n",
       "      <td>히터기</td>\n",
       "      <td>전기스토브</td>\n",
       "      <td>9.0</td>\n",
       "      <td>전자/기기</td>\n",
       "      <td>9477908.0</td>\n",
       "      <td>14025.0</td>\n",
       "      <td>72.0</td>\n",
       "      <td>20140621.0</td>\n",
       "      <td>21.0</td>\n",
       "      <td>29000.0</td>\n",
       "      <td>M</td>\n",
       "      <td>40세~44세</td>\n",
       "      <td>270</td>\n",
       "    </tr>\n",
       "    <tr>\n",
       "      <th>1</th>\n",
       "      <td>B</td>\n",
       "      <td>10.0</td>\n",
       "      <td>1003.0</td>\n",
       "      <td>B100305</td>\n",
       "      <td>흰우유</td>\n",
       "      <td>일반흰우유</td>\n",
       "      <td>1.0</td>\n",
       "      <td>식품</td>\n",
       "      <td>9484070.0</td>\n",
       "      <td>14025.0</td>\n",
       "      <td>72.0</td>\n",
       "      <td>20150130.0</td>\n",
       "      <td>11.0</td>\n",
       "      <td>3980.0</td>\n",
       "      <td>M</td>\n",
       "      <td>40세~44세</td>\n",
       "      <td>270</td>\n",
       "    </tr>\n",
       "    <tr>\n",
       "      <th>2</th>\n",
       "      <td>B</td>\n",
       "      <td>15.0</td>\n",
       "      <td>1506.0</td>\n",
       "      <td>B150601</td>\n",
       "      <td>커피차음료</td>\n",
       "      <td>커피음료</td>\n",
       "      <td>2.0</td>\n",
       "      <td>음료/주류</td>\n",
       "      <td>9487110.0</td>\n",
       "      <td>14025.0</td>\n",
       "      <td>72.0</td>\n",
       "      <td>20150518.0</td>\n",
       "      <td>14.0</td>\n",
       "      <td>990.0</td>\n",
       "      <td>M</td>\n",
       "      <td>40세~44세</td>\n",
       "      <td>270</td>\n",
       "    </tr>\n",
       "    <tr>\n",
       "      <th>3</th>\n",
       "      <td>B</td>\n",
       "      <td>81.0</td>\n",
       "      <td>8103.0</td>\n",
       "      <td>B810303</td>\n",
       "      <td>조미김</td>\n",
       "      <td>전장김</td>\n",
       "      <td>1.0</td>\n",
       "      <td>식품</td>\n",
       "      <td>9487239.0</td>\n",
       "      <td>14025.0</td>\n",
       "      <td>72.0</td>\n",
       "      <td>20150522.0</td>\n",
       "      <td>19.0</td>\n",
       "      <td>15800.0</td>\n",
       "      <td>M</td>\n",
       "      <td>40세~44세</td>\n",
       "      <td>270</td>\n",
       "    </tr>\n",
       "    <tr>\n",
       "      <th>4</th>\n",
       "      <td>B</td>\n",
       "      <td>10.0</td>\n",
       "      <td>1005.0</td>\n",
       "      <td>B100501</td>\n",
       "      <td>요구르트</td>\n",
       "      <td>마시는요구르트</td>\n",
       "      <td>1.0</td>\n",
       "      <td>식품</td>\n",
       "      <td>9488314.0</td>\n",
       "      <td>14025.0</td>\n",
       "      <td>72.0</td>\n",
       "      <td>20150627.0</td>\n",
       "      <td>17.0</td>\n",
       "      <td>8760.0</td>\n",
       "      <td>M</td>\n",
       "      <td>40세~44세</td>\n",
       "      <td>270</td>\n",
       "    </tr>\n",
       "  </tbody>\n",
       "</table>\n",
       "</div>"
      ],
      "text/plain": [
       "  제휴사  대분류코드   중분류코드    소분류코드   중분류명     소분류명  임의코드 임의코드분류명      영수증번호  \\\n",
       "0   B   40.0  4005.0  B400501    히터기    전기스토브   9.0   전자/기기  9477908.0   \n",
       "1   B   10.0  1003.0  B100305    흰우유    일반흰우유   1.0      식품  9484070.0   \n",
       "2   B   15.0  1506.0  B150601  커피차음료     커피음료   2.0   음료/주류  9487110.0   \n",
       "3   B   81.0  8103.0  B810303    조미김      전장김   1.0      식품  9487239.0   \n",
       "4   B   10.0  1005.0  B100501   요구르트  마시는요구르트   1.0      식품  9488314.0   \n",
       "\n",
       "      고객번호  점포코드        구매일자  구매시간     구매금액 성별      연령대 거주지역  \n",
       "0  14025.0  72.0  20140621.0  21.0  29000.0  M  40세~44세  270  \n",
       "1  14025.0  72.0  20150130.0  11.0   3980.0  M  40세~44세  270  \n",
       "2  14025.0  72.0  20150518.0  14.0    990.0  M  40세~44세  270  \n",
       "3  14025.0  72.0  20150522.0  19.0  15800.0  M  40세~44세  270  \n",
       "4  14025.0  72.0  20150627.0  17.0   8760.0  M  40세~44세  270  "
      ]
     },
     "execution_count": 23,
     "metadata": {},
     "output_type": "execute_result"
    }
   ],
   "source": [
    "demo['고객번호'] = demo['고객번호'].astype(float)\n",
    "pur = pd.merge(pur, demo, how='outer', on=['고객번호'])\n",
    "pur.head()"
   ]
  },
  {
   "cell_type": "code",
   "execution_count": 24,
   "id": "c5a9d0b4",
   "metadata": {},
   "outputs": [
    {
     "data": {
      "text/plain": [
       "제휴사         149\n",
       "대분류코드       149\n",
       "중분류코드       149\n",
       "소분류코드       149\n",
       "중분류명        149\n",
       "소분류명        149\n",
       "임의코드        149\n",
       "임의코드분류명     149\n",
       "영수증번호      1017\n",
       "고객번호        868\n",
       "점포코드       1017\n",
       "구매일자       1017\n",
       "구매시간       1017\n",
       "구매금액       1017\n",
       "성별          868\n",
       "연령대         868\n",
       "거주지역       2944\n",
       "dtype: int64"
      ]
     },
     "execution_count": 24,
     "metadata": {},
     "output_type": "execute_result"
    }
   ],
   "source": [
    "pur.isnull().sum()\n",
    "# demo.isnull().sum()"
   ]
  },
  {
   "cell_type": "code",
   "execution_count": null,
   "id": "f3265597",
   "metadata": {},
   "outputs": [],
   "source": [
    "pur.to_excel(r'C:\\Users\\h\\hmkd1\\m1_programming\\[7] DB sql\\onetool1.xlsx', index=False)"
   ]
  },
  {
   "cell_type": "code",
   "execution_count": null,
   "id": "6ae3563d",
   "metadata": {},
   "outputs": [],
   "source": []
  },
  {
   "cell_type": "code",
   "execution_count": null,
   "id": "bf6f7748",
   "metadata": {},
   "outputs": [],
   "source": [
    "df = pd.read_excel(r\"C:\\Users\\h\\hmkd1\\HMKD 프로젝트\\onetool1_추가.xlsx\")\n",
    "df.head()"
   ]
  },
  {
   "cell_type": "code",
   "execution_count": null,
   "id": "0765168e",
   "metadata": {},
   "outputs": [],
   "source": [
    "af = df[['제휴사','대분류코드','중분류코드','소분류코드','임의코드','임의코드분류명','중분류명','소분류명','구매금액']]\n",
    "af.head()"
   ]
  },
  {
   "cell_type": "code",
   "execution_count": null,
   "id": "e9448ccf",
   "metadata": {},
   "outputs": [],
   "source": [
    "af.groupby(['임의코드','제휴사']).agg()"
   ]
  },
  {
   "cell_type": "code",
   "execution_count": null,
   "id": "02ce37b4",
   "metadata": {},
   "outputs": [],
   "source": []
  },
  {
   "cell_type": "code",
   "execution_count": null,
   "id": "ab67136f",
   "metadata": {},
   "outputs": [],
   "source": []
  },
  {
   "cell_type": "code",
   "execution_count": null,
   "id": "a8597e44",
   "metadata": {},
   "outputs": [],
   "source": []
  }
 ],
 "metadata": {
  "kernelspec": {
   "display_name": "Python 3 (ipykernel)",
   "language": "python",
   "name": "python3"
  },
  "language_info": {
   "codemirror_mode": {
    "name": "ipython",
    "version": 3
   },
   "file_extension": ".py",
   "mimetype": "text/x-python",
   "name": "python",
   "nbconvert_exporter": "python",
   "pygments_lexer": "ipython3",
   "version": "3.11.4"
  }
 },
 "nbformat": 4,
 "nbformat_minor": 5
}
